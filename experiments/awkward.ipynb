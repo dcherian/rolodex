{
 "cells": [
  {
   "cell_type": "code",
   "execution_count": null,
   "id": "0",
   "metadata": {
    "tags": []
   },
   "outputs": [],
   "source": [
    "import awkward as ak\n",
    "\n",
    "\n",
    "def is_ragged_type(t):  # formality  # variable-length        # fixed-length\n",
    "    if isinstance(t, (ak.types.ArrayType, ak.types.ListType, ak.types.RegularType)):\n",
    "        return is_ragged_type(t.content)\n",
    "    elif isinstance(t, ak.types.NumpyType):\n",
    "        return True\n",
    "    else:\n",
    "        return False\n",
    "\n",
    "\n",
    "some_data = ak.Array([[[1.1, 2.2, 3.3], [], [4.4, 5.5]], [], [[6.6, 7.7, 8.8, 9.9]]])\n",
    "assert is_ragged_type(some_data.type)\n",
    "some_data"
   ]
  },
  {
   "cell_type": "code",
   "execution_count": null,
   "id": "1",
   "metadata": {
    "tags": []
   },
   "outputs": [],
   "source": [
    "x = ak.Array([100, 200, 300])\n",
    "y = ak.Array([[10, 20, 30], [], [40]])\n",
    "z = ak.Array([[[1, 2, 3], [], [4, 5]], [], [[6, 7, 8, 9]]])"
   ]
  },
  {
   "cell_type": "code",
   "execution_count": null,
   "id": "2",
   "metadata": {
    "tags": []
   },
   "outputs": [],
   "source": [
    "import xarray as xr"
   ]
  },
  {
   "cell_type": "code",
   "execution_count": null,
   "id": "3",
   "metadata": {
    "tags": []
   },
   "outputs": [],
   "source": [
    "class AwkwardArrayWrapper:\n",
    "    def __init__(self, array):\n",
    "        import numpy as np\n",
    "\n",
    "        self.array = array\n",
    "        self.ndim = array.ndim\n",
    "\n",
    "        # LOL\n",
    "        typestr = array.typestr.split(\" \")\n",
    "        self.shape = [None if s == \"var\" else int(s) for s in typestr[:-2][::2]]\n",
    "        self.dtype = np.dtype(typestr[-1])\n",
    "\n",
    "    def __array_namespace__(self):\n",
    "        import awkward as ak\n",
    "\n",
    "        return ak\n",
    "\n",
    "    def __repr__(self):\n",
    "        return repr(self.array)\n",
    "\n",
    "\n",
    "xr.DataArray(dims=\"x\", data=AwkwardArrayWrapper(x))"
   ]
  },
  {
   "cell_type": "raw",
   "id": "4",
   "metadata": {
    "tags": []
   },
   "source": [
    ">>> # just showing them for comparison\n",
    ">>> x.show(type=True)\n",
    "type: 3 * int64\n",
    "[100,\n",
    " 200,\n",
    " 300]\n",
    ">>> y.show(type=True)\n",
    "type: 3 * var * int64\n",
    "[[10, 20, 30],\n",
    " [],\n",
    " [40]]\n",
    ">>> z.show(type=True)\n",
    "type: 3 * var * var * int64\n",
    "[[[1, 2, 3], [], [4, 5]],\n",
    " [],\n",
    " [[6, 7, 8, 9]]]\n",
    ">>> some_data.show(type=True)\n",
    "type: 3 * var * var * float64\n",
    "[[[1.1, 2.2, 3.3], [], [4.4, 5.5]],\n",
    " [],\n",
    " [[6.6, 7.7, 8.8, 9.9]]]\n",
    "\n",
    ">>> # broadcast some_data and x\n",
    ">>> (some_data + x).show(type=True)\n",
    "type: 3 * var * var * float64\n",
    "[[[101, 102, 103], [], [104, 106]],\n",
    " [],\n",
    " [[307, 308, 309, 310]]]\n",
    "\n",
    ">>> # broadcast some_data and y\n",
    ">>> (some_data + y).show(type=True)\n",
    "type: 3 * var * var * float64\n",
    "[[[11.1, 12.2, 13.3], [], [34.4, 35.5]],\n",
    " [],\n",
    " [[46.6, 47.7, 48.8, 49.9]]]\n",
    "\n",
    ">>> # broadcast some_data and z\n",
    ">>> (some_data + z).show(type=True)\n",
    "type: 3 * var * var * float64\n",
    "[[[2.1, 4.2, 6.3], [], [8.4, 10.5]],\n",
    " [],\n",
    " [[12.6, 14.7, 16.8, 18.9]]]"
   ]
  }
 ],
 "metadata": {
  "language_info": {
   "codemirror_mode": {
    "name": "ipython",
    "version": 3
   },
   "file_extension": ".py",
   "mimetype": "text/x-python",
   "name": "python",
   "nbconvert_exporter": "python",
   "pygments_lexer": "ipython3"
  }
 },
 "nbformat": 4,
 "nbformat_minor": 5
}
