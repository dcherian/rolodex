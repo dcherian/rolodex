{
 "cells": [
  {
   "cell_type": "markdown",
   "id": "0",
   "metadata": {},
   "source": [
    "# XGCM Grid Index"
   ]
  },
  {
   "cell_type": "code",
   "execution_count": null,
   "id": "1",
   "metadata": {},
   "outputs": [],
   "source": [
    "%load_ext watermark\n",
    "\n",
    "import xarray as xr\n",
    "import xgcm\n",
    "from xarray.testing import _assert_internal_invariants\n",
    "\n",
    "%watermark -iv"
   ]
  },
  {
   "cell_type": "code",
   "execution_count": null,
   "id": "2",
   "metadata": {},
   "outputs": [],
   "source": [
    "import xgcm.test.datasets\n",
    "\n",
    "ds, coords, metrics = xgcm.test.datasets.datasets_grid_metric(\"C\")"
   ]
  },
  {
   "cell_type": "code",
   "execution_count": null,
   "id": "3",
   "metadata": {},
   "outputs": [],
   "source": [
    "import numpy as np\n",
    "from xarray.core.indexes import Index, PandasIndex\n",
    "from xarray.core.indexing import IndexSelResult\n",
    "\n",
    "\n",
    "def grid_isel_indexers(grid: xgcm.Grid, indexers: dict):\n",
    "    # TODO: make this a Grid.isel method\n",
    "    # TODO: cache positions on the grid object.\n",
    "    dim_to_pos = {}\n",
    "    for key, axis in grid.axes.items():\n",
    "        for pos, name in axis.coords.items():\n",
    "            dim_to_pos.update({name: (key, pos)})\n",
    "\n",
    "    new_indexers = {}\n",
    "    new_indexers.update(indexers)\n",
    "    for dim, key in indexers.items():\n",
    "        axis, pos = dim_to_pos[dim]\n",
    "        print(axis, pos)\n",
    "\n",
    "        if np.isscalar(key):\n",
    "            key = [key]\n",
    "        key = np.asarray(key)\n",
    "\n",
    "        for pos_, dim in grid.axes[axis].coords.items():\n",
    "            if dim in new_indexers:\n",
    "                continue\n",
    "\n",
    "            if len(key) > 1:\n",
    "                raise NotImplementedError\n",
    "            if pos_ == pos:\n",
    "                continue\n",
    "            if pos_ == \"right\":\n",
    "                new_indexers[dim] = np.insert(key, 0, key - 1)\n",
    "            elif pos_ == \"left\":\n",
    "                new_indexers[dim] = np.append(key, key + 1)\n",
    "    print(new_indexers)\n",
    "    return new_indexers\n",
    "\n",
    "\n",
    "def get_grid_var_names(grid):\n",
    "    import itertools\n",
    "\n",
    "    return tuple(\n",
    "        itertools.chain(*[tuple(axis.coords.values()) for axis in grid.axes.values()])\n",
    "    ) + tuple(\n",
    "        itertools.chain(*[tuple(v.name for v in metrics) for metrics in grid._metrics.values()])\n",
    "    )\n",
    "\n",
    "\n",
    "class XgcmGridIndex(Index):\n",
    "    # based off Benoit's RasterIndex in\n",
    "    # https://hackmd.io/Zxw_zCa7Rbynx_iJu6Y3LA?view\n",
    "\n",
    "    def __init__(self, grid, indexes):\n",
    "        display(\"Creating new index... __init__\")\n",
    "        self.grid = grid\n",
    "\n",
    "        # all variable names\n",
    "        self.index_var_names = get_grid_var_names(grid)\n",
    "        self._indexes = indexes\n",
    "\n",
    "    # TODO: what goes in options?\n",
    "    @classmethod\n",
    "    def from_variables(cls, variables, options):\n",
    "        grid = options.pop(\"grid\")\n",
    "\n",
    "        coord_names = []\n",
    "        for _, axis in grid.axes.items():\n",
    "            coord_names.extend(axis.coords.values())\n",
    "\n",
    "        indexes = {\n",
    "            key: PandasIndex.from_variables({key: variables[key]}, options=options)\n",
    "            for key in coord_names\n",
    "        }\n",
    "        return cls(grid, indexes)\n",
    "\n",
    "    # TODO: variables=None?\n",
    "    # set_xindex tries to pass variables; this seems like a bug\n",
    "    def create_variables(self, variables=None):\n",
    "        return {name: self.grid._ds._variables[name] for name in self.index_var_names}\n",
    "\n",
    "    # TODO: see notes about IndexSelResult\n",
    "    #    The latter is a small class that stores positional indexers (indices)\n",
    "    #    and that could also store new variables, new indexes,\n",
    "    #    names of variables or indexes to drop,\n",
    "    #    names of dimensions to rename, etc.\n",
    "    def sel(self, labels, **kwargs):\n",
    "        # sel needs to only handle keys in labels\n",
    "        # since it delegates to isel.\n",
    "        # we handle all entries in ._indexes there\n",
    "        results = {}\n",
    "\n",
    "        # convert provided label indexers to positional indexers\n",
    "        for name, keys in labels.items():\n",
    "            pdindex = self._indexes[name].index\n",
    "            idxs = pdindex.get_indexer(keys)\n",
    "            results[name] = idxs\n",
    "\n",
    "        # bring in linked dimensions\n",
    "        results = grid_isel_indexers(self.grid, results)\n",
    "        return IndexSelResult(dim_indexers=results)\n",
    "\n",
    "    def isel(self, indexers):\n",
    "        indexers = grid_isel_indexers(self.grid, indexers)\n",
    "        display(indexers)\n",
    "\n",
    "        # TODO: check dim names in indexes\n",
    "        results = {}\n",
    "        for k, index in self._indexes.items():\n",
    "            if k in indexers:\n",
    "                results[k] = index.isel({k: indexers[k]})\n",
    "            else:\n",
    "                results[k] = index\n",
    "        # display(results)\n",
    "        subset_ds = self.grid._ds.isel(indexers)\n",
    "        # display(subset_ds)\n",
    "        new_grid = xgcm.Grid(\n",
    "            subset_ds,\n",
    "            coords=self.grid._saved_coords,\n",
    "            metrics=self.grid._saved_metrics,\n",
    "        )\n",
    "        return type(self)(new_grid, results)\n",
    "\n",
    "    def __repr__(self):\n",
    "        string = \"XGCM/Index\"\n",
    "        return string\n",
    "\n",
    "\n",
    "import itertools\n",
    "\n",
    "ds, coords, metrics = xgcm.test.datasets.datasets_grid_metric(\"C\")\n",
    "grid = xgcm.Grid(ds, coords=coords, metrics=metrics)\n",
    "\n",
    "# monkey patch attributes to make it easier to recreate a Grid\n",
    "grid._saved_coords = coords\n",
    "grid._saved_metrics = metrics\n",
    "\n",
    "grid_var_names = tuple(\n",
    "    itertools.chain(*[tuple(axis.coords.values()) for axis in grid.axes.values()])\n",
    ") + tuple(itertools.chain(*[tuple(v.name for v in metrics) for metrics in grid._metrics.values()]))\n",
    "dim_names = tuple(itertools.chain(*[tuple(axis.coords.values()) for axis in grid.axes.values()]))\n",
    "# spatial_dims = [dim for dim in ds.dims if dim != \"time\"]\n",
    "# ds = ds.drop_indexes(spatial_dims)\n",
    "newds = (\n",
    "    # Set grid variables as coords\n",
    "    ds.set_coords(grid_var_names)\n",
    "    # Need to drop existing indexed dims; somewhat annoying\n",
    "    .drop_indexes(dim_names)\n",
    "    .set_xindex(grid_var_names, index_cls=XgcmGridIndex, grid=grid)\n",
    ")\n",
    "newds"
   ]
  },
  {
   "cell_type": "markdown",
   "id": "4",
   "metadata": {},
   "source": [
    "## Test index propagation"
   ]
  },
  {
   "cell_type": "code",
   "execution_count": null,
   "id": "5",
   "metadata": {},
   "outputs": [],
   "source": [
    "newds.mean(\"time\")"
   ]
  },
  {
   "cell_type": "markdown",
   "id": "6",
   "metadata": {},
   "source": [
    "## Subset with .sel"
   ]
  },
  {
   "cell_type": "code",
   "execution_count": null,
   "id": "7",
   "metadata": {},
   "outputs": [],
   "source": [
    "newds.sel(xt=[2])"
   ]
  },
  {
   "cell_type": "code",
   "execution_count": null,
   "id": "8",
   "metadata": {},
   "outputs": [],
   "source": [
    "newds.xgcm.interp(axis=\"X\")"
   ]
  },
  {
   "cell_type": "markdown",
   "id": "9",
   "metadata": {},
   "source": [
    "Not sure why this is failing. Seems like I need to make a bunch of variables IndexVariables? That seems unnecessary."
   ]
  },
  {
   "cell_type": "code",
   "execution_count": null,
   "id": "10",
   "metadata": {
    "tags": [
     "raises-exception"
    ]
   },
   "outputs": [],
   "source": [
    "_assert_internal_invariants(newds.sel(xt=[2]), check_default_indexes=False)"
   ]
  },
  {
   "cell_type": "markdown",
   "id": "11",
   "metadata": {},
   "source": [
    "## Subset with .isel\n",
    "\n",
    "This isn't working, `indexers={\"xt\": [2]}` needs to be updated before subsetting variables but we have no mechanism to allow that. We'd need `IndexISelResult` for example? Or convert from positional to label, then back to positional is quite silly."
   ]
  },
  {
   "cell_type": "code",
   "execution_count": null,
   "id": "12",
   "metadata": {
    "tags": [
     "raises-exception"
    ]
   },
   "outputs": [],
   "source": [
    "_assert_internal_invariants(newds.mean(\"time\").isel(xt=[2]), False)"
   ]
  },
  {
   "cell_type": "markdown",
   "id": "13",
   "metadata": {},
   "source": [
    "## Accessor\n",
    "\n",
    "bah doesn't work because we don't propagate index with DataArray extraction, and xgcm can only operate on dataarrays."
   ]
  },
  {
   "cell_type": "code",
   "execution_count": null,
   "id": "14",
   "metadata": {},
   "outputs": [],
   "source": [
    "@xr.register_dataset_accessor(\"xgcm\")\n",
    "class XgcmAccessor:\n",
    "    def __init__(self, obj):\n",
    "        self._obj = obj\n",
    "\n",
    "        # just pick the first XGCM Grid Index\n",
    "        for index in newds.xindexes.values():\n",
    "            if isinstance(index, XgcmGridIndex):\n",
    "                break\n",
    "        self.grid = index.grid\n",
    "\n",
    "    def diff(self, name, *args, **kwargs):\n",
    "        result = self.grid.diff(self._obj[name], *args, **kwargs)\n",
    "        return result\n",
    "\n",
    "\n",
    "newds.xgcm.diff(\"tracer\", axis=\"X\")"
   ]
  }
 ],
 "metadata": {
  "language_info": {
   "codemirror_mode": {
    "name": "ipython",
    "version": 3
   },
   "file_extension": ".py",
   "mimetype": "text/x-python",
   "name": "python",
   "nbconvert_exporter": "python",
   "pygments_lexer": "ipython3"
  }
 },
 "nbformat": 4,
 "nbformat_minor": 5
}
