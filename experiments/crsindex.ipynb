{
 "cells": [
  {
   "cell_type": "markdown",
   "id": "0",
   "metadata": {},
   "source": [
    "# CRSIndex experiment\n",
    "\n",
    "Notes:\n",
    "1. Indexes are created using `Index.from_variables`. This means we have to stick everything in Variable objects. \n",
    "    - Can we support passing a CRS object directly using `**kwargs`? Not at the moment\n",
    "    - this is the data model: Indexes are constructed from a subset of Coordinate variables. all necessary information should be in a coordinate variable\n",
    "    - This demo uses `spatial_ref`, an arbitrary choice.\n",
    "    \n",
    "Potential Extensions:\n",
    "- We (optionally?) want lat, lon in addition to x, y\n",
    "- potentially more fancy tree-based indexing instead of the simple Pandas based indexing here.\n",
    "- What do we do for `newds.sel(x=46670, method=\"nearest\")` : allow a CRSIndex with only `y` and no `x`?\n",
    "- Rioxarray could assign a new index automatically when reprojecting etc.\n",
    "- better handling of various CRS options.\n",
    "\n",
    "Bug reports TODO:\n",
    "1. flox GroupBy doesn't propagate index.\n",
    "1. error message with `join='exact'` is very generic."
   ]
  },
  {
   "cell_type": "code",
   "execution_count": null,
   "id": "1",
   "metadata": {},
   "outputs": [],
   "source": [
    "%load_ext watermark\n",
    "\n",
    "import rioxarray\n",
    "import xarray as xr  # need >= 2022.10.0\n",
    "\n",
    "%watermark -iv\n",
    "\n",
    "\n",
    "ds = xr.open_dataset(\n",
    "    # \"/Users/deepak/repos/rioxarray/test/test_data/input/PLANET_SCOPE_3D.nc\",\n",
    "    \"./S_20240101_concentration_v3.0.tif\",\n",
    "    # decode_coords=\"all\",\n",
    "    engine=\"rasterio\",\n",
    "    backend_kwargs={\"parse_coordinates\": False},\n",
    ")\n",
    "ds"
   ]
  },
  {
   "cell_type": "markdown",
   "id": "2",
   "metadata": {},
   "source": [
    "1. propagate index here."
   ]
  },
  {
   "cell_type": "code",
   "execution_count": null,
   "id": "3",
   "metadata": {},
   "outputs": [],
   "source": [
    "from xarray.core.indexes import Index, PandasIndex, get_indexer_nd\n",
    "from xarray.core.indexing import merge_sel_results\n",
    "\n",
    "\n",
    "def create_spatial_ref(crs_wkt):\n",
    "    \"\"\"Because I don't know what I'm doing\"\"\"\n",
    "    return xr.Variable((), 0, attrs={\"crs_wkt\": crs_wkt})\n",
    "\n",
    "\n",
    "class CRSIndex(Index):\n",
    "    # based off Benoit's RasterIndex in\n",
    "    # https://hackmd.io/Zxw_zCa7Rbynx_iJu6Y3LA?view\n",
    "\n",
    "    def __init__(self, variables):\n",
    "        # TODO: hardcoded variable names\n",
    "\n",
    "        # assert len(xy_indexes) == 2\n",
    "        assert \"x\" in variables\n",
    "        assert \"y\" in variables\n",
    "        assert \"spatial_ref\" in variables\n",
    "\n",
    "        # TODO: Instead do whatever the rio accessor is doing.\n",
    "        # rioxarray.open_dataset is doing\n",
    "        spatial_ref = variables.pop(\"spatial_ref\")\n",
    "        self._crs = rioxarray.crs.CRS.from_wkt(spatial_ref.attrs[\"crs_wkt\"])\n",
    "\n",
    "        # must have two distinct dimensions\n",
    "        # Assumes x, y for index are never scalar. Is that correct?\n",
    "        dim = [idx.dim for key, idx in variables.items()]\n",
    "        assert dim[0] != dim[1]\n",
    "\n",
    "        self._indexes = variables\n",
    "\n",
    "    # TODO: what goes in options?\n",
    "    @classmethod\n",
    "    def from_variables(cls, variables, options):\n",
    "        # assert len(variables) == 2\n",
    "\n",
    "        xy_indexes = {\n",
    "            k: PandasIndex.from_variables({k: v}, options=options)\n",
    "            for k, v in variables.items()\n",
    "            if k in [\"x\", \"y\"]\n",
    "        }\n",
    "        xy_indexes[\"spatial_ref\"] = variables[\"spatial_ref\"]\n",
    "\n",
    "        return cls(xy_indexes)\n",
    "\n",
    "    # TODO: variables=None?\n",
    "    # set_xindex tries to pass variables; this seems like a bug\n",
    "    def create_variables(self, variables=None):\n",
    "        idx_variables = {}\n",
    "\n",
    "        for index in self._indexes.values():\n",
    "            idx_variables.update(index.create_variables(variables))\n",
    "\n",
    "        idx_variables[\"spatial_ref\"] = create_spatial_ref(self.as_wkt)\n",
    "        return idx_variables\n",
    "\n",
    "    # TODO: see notes about IndexSelResult\n",
    "    #    The latter is a small class that stores positional indexers (indices)\n",
    "    #    and that could also store new variables, new indexes,\n",
    "    #    names of variables or indexes to drop,\n",
    "    #    names of dimensions to rename, etc.\n",
    "    def sel(self, labels, **kwargs):\n",
    "        # sel needs to only handle keys in labels\n",
    "        # since it delegates to isel.\n",
    "        # we handle all entries in ._indexes there\n",
    "        results = []\n",
    "        for k, index in self._indexes.items():\n",
    "            if k in labels:\n",
    "                # defer to pandas type indexing.\n",
    "                # This is where we would implement KDTree and friends\n",
    "                results.append(index.sel({k: labels[k]}, **kwargs))\n",
    "        return merge_sel_results(results)\n",
    "\n",
    "    def isel(self, indexers):\n",
    "        # TODO: check dim names in indexes\n",
    "        results = {}\n",
    "        for k, index in self._indexes.items():\n",
    "            if k in indexers:\n",
    "                # again possible KDTree / friends here.\n",
    "                results[k] = index.isel({k: indexers[k]})\n",
    "            else:\n",
    "                results[k] = index\n",
    "        # AGAIN!\n",
    "        results[\"spatial_ref\"] = create_spatial_ref(self.as_wkt)\n",
    "        return type(self)(results)\n",
    "\n",
    "    def __repr__(self):\n",
    "        string = f\"CRSIndex: {self._crs.to_string()}\"\n",
    "        return string\n",
    "\n",
    "    def equals(self, other):\n",
    "        result = self._crs is other._crs or (\n",
    "            self._crs == other._crs\n",
    "            and self._indexes[\"x\"].equals(other._indexes[\"x\"])\n",
    "            and self._indexes[\"y\"].equals(other._indexes[\"y\"])\n",
    "        )\n",
    "        return result\n",
    "\n",
    "    def join(self, other, how=\"inner\"):\n",
    "        if self._crs != other._crs:\n",
    "            raise ValueError(\n",
    "                \"Cannot align or join objects with different CRS. \"\n",
    "                f\"Received {self._crs.name!r} and {other._crs.name!r}\"\n",
    "            )\n",
    "\n",
    "        new_indexes = {k: v.join(other._indexes[k], how=how) for k, v in self._indexes.items()}\n",
    "        # create new spatial_ref here.\n",
    "        new_indexes[\"spatial_ref\"] = create_spatial_ref(self.as_wkt)\n",
    "        return type(self)(new_indexes)\n",
    "\n",
    "    def reindex_like(self, other, method=None, tolerance=None):\n",
    "        # TODO: different method, tolerance for x, y?\n",
    "        return {\n",
    "            k: get_indexer_nd(self._indexes[k].index, other._indexes[k].index, method, tolerance)\n",
    "            for k in self._indexes.keys()\n",
    "        }\n",
    "\n",
    "    @property\n",
    "    def as_crs(self):\n",
    "        return self._crs\n",
    "\n",
    "    @property\n",
    "    def as_wkt(self):\n",
    "        return self._crs.to_wkt()"
   ]
  },
  {
   "cell_type": "code",
   "execution_count": null,
   "id": "4",
   "metadata": {},
   "outputs": [],
   "source": [
    "index = CRSIndex.from_variables(\n",
    "    {\n",
    "        \"x\": ds.cf[\"projection_x_coordinate\"].variable,\n",
    "        \"y\": ds.cf[\"projection_y_coordinate\"].variable,\n",
    "        \"spatial_ref\": ds[\"spatial_ref\"].variable,\n",
    "    },\n",
    "    options={},\n",
    ")\n",
    "index"
   ]
  },
  {
   "cell_type": "markdown",
   "id": "5",
   "metadata": {},
   "source": [
    "🎉"
   ]
  },
  {
   "cell_type": "markdown",
   "id": "6",
   "metadata": {},
   "source": [
    "## Assign CRSIndex to a new dataset"
   ]
  },
  {
   "cell_type": "markdown",
   "id": "7",
   "metadata": {},
   "source": [
    "First drop the existing default PandasIndex along x, y"
   ]
  },
  {
   "cell_type": "code",
   "execution_count": null,
   "id": "8",
   "metadata": {},
   "outputs": [],
   "source": [
    "newds = ds.drop_indexes([\"x\", \"y\"])\n",
    "newds"
   ]
  },
  {
   "cell_type": "markdown",
   "id": "9",
   "metadata": {},
   "source": [
    "Now set the new CRSIndex; note new entry under *Indexes*"
   ]
  },
  {
   "cell_type": "code",
   "execution_count": null,
   "id": "10",
   "metadata": {},
   "outputs": [],
   "source": [
    "names = ds.cf.standard_names\n",
    "newds = newds.set_xindex(\n",
    "    (\n",
    "        *names[\"projection_x_coordinate\"],\n",
    "        *names[\"projection_y_coordinate\"],\n",
    "        \"spatial_ref\",\n",
    "    ),\n",
    "    CRSIndex,\n",
    ")\n",
    "newds\n",
    "\n",
    "# Seems like we should delete spatial_ref\n",
    "# But that is not allowed by set_xindex\n",
    "# del newds[\"spatial_ref\"] # doesn't work"
   ]
  },
  {
   "cell_type": "code",
   "execution_count": null,
   "id": "11",
   "metadata": {},
   "outputs": [],
   "source": [
    "with xr.set_options(display_style=\"html\"):\n",
    "    display(newds)"
   ]
  },
  {
   "cell_type": "markdown",
   "id": "12",
   "metadata": {},
   "source": [
    "^ `spatial_ref` is now bolded in the HTML repr so it is a indexed variable even though its not associated with a dimensions."
   ]
  },
  {
   "cell_type": "markdown",
   "id": "13",
   "metadata": {},
   "source": [
    "## Selection\n",
    "\n",
    "### Vectors"
   ]
  },
  {
   "cell_type": "code",
   "execution_count": null,
   "id": "14",
   "metadata": {},
   "outputs": [],
   "source": [
    "#!!!!\n",
    "newds.sel(x=[46670, 46675], method=\"nearest\")"
   ]
  },
  {
   "cell_type": "markdown",
   "id": "15",
   "metadata": {},
   "source": [
    "### TODO: Scalar selection\n",
    "\n",
    "This fails at the moment.\n",
    "\n",
    "What is the expected behaviour here?"
   ]
  },
  {
   "cell_type": "code",
   "execution_count": null,
   "id": "16",
   "metadata": {
    "tags": [
     "raises-exception"
    ]
   },
   "outputs": [],
   "source": [
    "# Should scalar be supported?\n",
    "newds.sel(x=46670, method=\"nearest\")"
   ]
  },
  {
   "cell_type": "markdown",
   "id": "17",
   "metadata": {},
   "source": [
    "## Reduction"
   ]
  },
  {
   "cell_type": "code",
   "execution_count": null,
   "id": "18",
   "metadata": {},
   "outputs": [],
   "source": [
    "newds.mean()"
   ]
  },
  {
   "cell_type": "markdown",
   "id": "19",
   "metadata": {},
   "source": [
    "We lose `x,y` that makes sense. `spatial_ref` is propagated, so that's great.\n",
    "- note: Bolded `spatial_ref` is confusing. A scalar index? "
   ]
  },
  {
   "cell_type": "code",
   "execution_count": null,
   "id": "20",
   "metadata": {},
   "outputs": [],
   "source": [
    "with xr.set_options(display_style=\"html\"):\n",
    "    display(newds.mean())"
   ]
  },
  {
   "cell_type": "markdown",
   "id": "21",
   "metadata": {
    "tags": []
   },
   "source": [
    "## groupby with flox needs to propagate indexes.\n",
    "\n",
    "flox is worse. Not surprising."
   ]
  },
  {
   "cell_type": "code",
   "execution_count": null,
   "id": "22",
   "metadata": {
    "tags": [
     "raises-exception"
    ]
   },
   "outputs": [],
   "source": [
    "with xr.set_options(use_flox=True):\n",
    "    result = newds.groupby(\"time.month\").mean()\n",
    "result"
   ]
  },
  {
   "cell_type": "code",
   "execution_count": null,
   "id": "23",
   "metadata": {},
   "outputs": [],
   "source": [
    "with xr.set_options(use_flox=False):\n",
    "    result = newds.groupby(\"time.month\").mean()\n",
    "result"
   ]
  },
  {
   "cell_type": "markdown",
   "id": "24",
   "metadata": {},
   "source": [
    "## alignment\n",
    "\n",
    "### Create a reprojected dataset that should not align"
   ]
  },
  {
   "cell_type": "code",
   "execution_count": null,
   "id": "25",
   "metadata": {},
   "outputs": [],
   "source": [
    "# oops lost index\n",
    "reprojected = newds.rio.reproject(\"EPSG:4326\")\n",
    "reprojected"
   ]
  },
  {
   "cell_type": "code",
   "execution_count": null,
   "id": "26",
   "metadata": {},
   "outputs": [],
   "source": [
    "# set CRSIndex again; RIO could do this automatically\n",
    "reprojected = (\n",
    "    ds.rio.reproject(\"EPSG:4326\")\n",
    "    .drop_indexes([\"x\", \"y\"])\n",
    "    .set_xindex((\"x\", \"y\", \"spatial_ref\"), CRSIndex)\n",
    ")\n",
    "reprojected"
   ]
  },
  {
   "cell_type": "markdown",
   "id": "27",
   "metadata": {},
   "source": [
    "### default join=\"outer\"\n",
    "\n",
    "Note nice error message!"
   ]
  },
  {
   "cell_type": "code",
   "execution_count": null,
   "id": "28",
   "metadata": {
    "tags": [
     "raises-exception"
    ]
   },
   "outputs": [],
   "source": [
    "xr.align(reprojected, newds)"
   ]
  },
  {
   "cell_type": "markdown",
   "id": "29",
   "metadata": {},
   "source": [
    "### join=\"exact\" test out __equals__\n",
    "\n",
    "Could have nicer error message"
   ]
  },
  {
   "cell_type": "code",
   "execution_count": null,
   "id": "30",
   "metadata": {
    "tags": [
     "raises-exception"
    ]
   },
   "outputs": [],
   "source": [
    "xr.align(reprojected, newds, join=\"exact\")"
   ]
  },
  {
   "cell_type": "markdown",
   "id": "31",
   "metadata": {},
   "source": [
    "### Successfully align with a copy of itself\n"
   ]
  },
  {
   "cell_type": "code",
   "execution_count": null,
   "id": "32",
   "metadata": {},
   "outputs": [],
   "source": [
    "copy = newds.copy(deep=True)\n",
    "copy"
   ]
  },
  {
   "cell_type": "code",
   "execution_count": null,
   "id": "33",
   "metadata": {
    "tags": [
     "raises-exception"
    ]
   },
   "outputs": [],
   "source": [
    "xr.align(copy, newds)"
   ]
  },
  {
   "cell_type": "markdown",
   "id": "34",
   "metadata": {},
   "source": [
    "### Align with subsets\n"
   ]
  },
  {
   "cell_type": "code",
   "execution_count": null,
   "id": "35",
   "metadata": {},
   "outputs": [],
   "source": [
    "xr.align(newds.isel(x=[5, 6]), newds, join=\"outer\")"
   ]
  },
  {
   "cell_type": "code",
   "execution_count": null,
   "id": "36",
   "metadata": {},
   "outputs": [],
   "source": [
    "xr.align(newds.isel(x=[5, 6]), newds, join=\"inner\")"
   ]
  },
  {
   "cell_type": "code",
   "execution_count": null,
   "id": "37",
   "metadata": {},
   "outputs": [],
   "source": [
    "xr.show_versions()"
   ]
  }
 ],
 "metadata": {
  "language_info": {
   "codemirror_mode": {
    "name": "ipython",
    "version": 3
   },
   "file_extension": ".py",
   "mimetype": "text/x-python",
   "name": "python",
   "nbconvert_exporter": "python",
   "pygments_lexer": "ipython3"
  }
 },
 "nbformat": 4,
 "nbformat_minor": 5
}
