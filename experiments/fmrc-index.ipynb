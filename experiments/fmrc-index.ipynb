{
 "cells": [
  {
   "cell_type": "markdown",
   "id": "0",
   "metadata": {},
   "source": [
    "# Forecast Model Run Collections (FMRC) with a custom Xarray Index\n",
    "\n",
    "There are many ways one might index weather forecast output. These different ways of constructing views of a forecast data are called \"Forecast Model Run Collections\" (FMRC).\n",
    "- \"Model Run\" : a single model run.\n",
    "- \"Constant Offset\" : all values for a given lead time.\n",
    "- \"Constant Forecast\" : all forecasts for a given time in the future.\n",
    "- \"Best Estimate\" : A best guess stitching together the analysis or initialization fields for past forecasts with the latest forecast.\n",
    "\n",
    "For reference, see [this classic image](https://www.unidata.ucar.edu/presentations/caron/FmrcPoster.pdf).\n",
    "\n",
    "Assume that a data cube has been constructed with `forecast_reference_time` (commonly `time`) and `forecast_period` (commonly `step` or `lead`) as dimensions.\n",
    "\n",
    "\n",
    "Then the more complex indexing patterns --- \"Constant Forecast\" or \"Best Estimate\" --- are achievable with numpy-style vectorized indexing.\n",
    "This notebook demonstrates all 4 \"FMRC\" indexing patterns with a custom Xarray index.\n",
    "\n",
    "\n",
    "Some complexity arises from models like HRRR where not all runs are the same length (unlike GFS).\n",
    "This complexity is handled by hardcoding in what data is available for each model: for example, with HRRR we know there are 49 `step`s available every 6 hours, and 19 `steps` otherwise."
   ]
  },
  {
   "cell_type": "code",
   "execution_count": null,
   "id": "1",
   "metadata": {},
   "outputs": [],
   "source": [
    "from forecast_index import (\n",
    "    BestEstimate,\n",
    "    ConstantForecast,\n",
    "    ConstantOffset,\n",
    "    ForecastIndex,\n",
    "    Model,\n",
    "    ModelRun,\n",
    ")"
   ]
  },
  {
   "cell_type": "markdown",
   "id": "2",
   "metadata": {},
   "source": [
    "## Create an example data cube"
   ]
  },
  {
   "cell_type": "code",
   "execution_count": null,
   "id": "3",
   "metadata": {},
   "outputs": [],
   "source": [
    "import numpy as np\n",
    "import pandas as pd\n",
    "import xarray as xr\n",
    "\n",
    "xr.set_options(keep_attrs=True)\n",
    "\n",
    "ds = xr.Dataset(attrs={\"description\": \"Example HRRR-like dataset\"})\n",
    "shape = {\"x\": 40, \"time\": 365 * 24, \"step\": 49}\n",
    "ds[\"foo\"] = ((\"x\", \"time\", \"step\"), np.ones(tuple(shape.values())))\n",
    "ds[\"time\"] = (\n",
    "    \"time\",\n",
    "    pd.date_range(\"2023-01-01\", freq=\"h\", periods=shape[\"time\"]),\n",
    "    {\"standard_name\": \"forecast_reference_time\"},\n",
    ")\n",
    "ds[\"step\"] = (\n",
    "    \"step\",\n",
    "    pd.to_timedelta(np.arange(0, 49), unit=\"hours\"),\n",
    "    {\"standard_name\": \"forecast_period\"},\n",
    ")"
   ]
  },
  {
   "cell_type": "code",
   "execution_count": null,
   "id": "4",
   "metadata": {},
   "outputs": [],
   "source": [
    "ds.chunk(time=1, step=1)"
   ]
  },
  {
   "cell_type": "code",
   "execution_count": null,
   "id": "5",
   "metadata": {},
   "outputs": [],
   "source": [
    "ds[\"foo\"] = xr.where(\n",
    "    ~((ds.time.dt.hour % 6 != 0) & (ds.step.dt.total_seconds() / 3600 > 18)),\n",
    "    ds.foo,\n",
    "    np.nan,\n",
    ")\n",
    "ds.foo.isel(x=20).drop_vars(\"step\").plot(x=\"time\")"
   ]
  },
  {
   "cell_type": "code",
   "execution_count": null,
   "id": "6",
   "metadata": {},
   "outputs": [],
   "source": [
    "ideal_ds = ds\n",
    "ideal_ds"
   ]
  },
  {
   "cell_type": "code",
   "execution_count": null,
   "id": "7",
   "metadata": {},
   "outputs": [],
   "source": [
    "import arraylake as al"
   ]
  },
  {
   "cell_type": "code",
   "execution_count": null,
   "id": "8",
   "metadata": {},
   "outputs": [],
   "source": [
    "client = al.Client()\n",
    "repo = client.get_repo(\"earthmover-demos/hrrr\")\n",
    "ds = repo.to_xarray(\"solar\", chunks={})\n",
    "ds"
   ]
  },
  {
   "cell_type": "markdown",
   "id": "9",
   "metadata": {},
   "source": [
    "## Create a ForecastIndex"
   ]
  },
  {
   "cell_type": "code",
   "execution_count": null,
   "id": "10",
   "metadata": {},
   "outputs": [],
   "source": [
    "# Add a dummy variable to enable nice indexing syntax\n",
    "# e.g. `.sel(forecast=ConstantForecast('2024-05-22'))`\n",
    "ds.coords[\"forecast\"] = 0\n",
    "\n",
    "# set the new index\n",
    "newds = (\n",
    "    ds.isel(time=slice(-120, None))\n",
    "    .drop_indexes([\"time\", \"step\"])\n",
    "    .set_xindex([\"time\", \"step\", \"forecast\"], ForecastIndex, model=Model.HRRR)\n",
    ")\n",
    "newds"
   ]
  },
  {
   "cell_type": "markdown",
   "id": "11",
   "metadata": {
    "jp-MarkdownHeadingCollapsed": true
   },
   "source": [
    "## \"Standard\" selection"
   ]
  },
  {
   "cell_type": "code",
   "execution_count": null,
   "id": "12",
   "metadata": {},
   "outputs": [],
   "source": [
    "newds.sel(time=slice(\"2024-05-03\", None), step=slice(\"2h\", \"12h\"))"
   ]
  },
  {
   "cell_type": "markdown",
   "id": "13",
   "metadata": {},
   "source": [
    "## FMRC indexing\n",
    "\n",
    "For all cases, the index knows how to select values so there are no NaNs i.e. it only tries to pull out valid data! \n",
    "We've told it this is HRRR, and the HRRR output characteristics are hard-coded in the index. This could be refactored a little.\n",
    "\n",
    "Other models, like GFS, don't require any configuration.\n"
   ]
  },
  {
   "cell_type": "markdown",
   "id": "14",
   "metadata": {},
   "source": [
    "### `BestEstimate`"
   ]
  },
  {
   "cell_type": "code",
   "execution_count": null,
   "id": "15",
   "metadata": {},
   "outputs": [],
   "source": [
    "subset = newds.sel(forecast=BestEstimate())\n",
    "# assert not subset.foo.isnull().any().item()\n",
    "subset"
   ]
  },
  {
   "cell_type": "markdown",
   "id": "16",
   "metadata": {},
   "source": [
    "### `ConstantForecast`\n",
    "\n",
    "**TODO:** Adding a scalar `valid_time` for `ConstantForecast` triggers a bug."
   ]
  },
  {
   "cell_type": "code",
   "execution_count": null,
   "id": "17",
   "metadata": {},
   "outputs": [],
   "source": [
    "subset = newds.sel(forecast=ConstantForecast(\"2024-06-29\"))\n",
    "# assert not subset.foo.isnull().any().item()\n",
    "subset"
   ]
  },
  {
   "cell_type": "markdown",
   "id": "18",
   "metadata": {},
   "source": [
    "### `ConstantOffset`"
   ]
  },
  {
   "cell_type": "code",
   "execution_count": null,
   "id": "19",
   "metadata": {},
   "outputs": [],
   "source": [
    "subset = newds.sel(forecast=ConstantOffset(\"32h\"))\n",
    "# assert not subset.foo.isnull().any().item()\n",
    "subset"
   ]
  },
  {
   "cell_type": "markdown",
   "id": "20",
   "metadata": {},
   "source": [
    "### `ModelRun`"
   ]
  },
  {
   "cell_type": "code",
   "execution_count": null,
   "id": "21",
   "metadata": {},
   "outputs": [],
   "source": [
    "subset = newds.sel(forecast=ModelRun(\"2024-06-30 03:00\"))  # 19\n",
    "assert subset.sizes[\"step\"] == 19\n",
    "subset"
   ]
  },
  {
   "cell_type": "code",
   "execution_count": null,
   "id": "22",
   "metadata": {},
   "outputs": [],
   "source": [
    "subset = newds.sel(forecast=ModelRun(\"2024-06-30 06:00\"))  # 49\n",
    "assert subset.sizes[\"step\"] == 49\n",
    "subset"
   ]
  }
 ],
 "metadata": {
  "language_info": {
   "codemirror_mode": {
    "name": "ipython",
    "version": 3
   },
   "file_extension": ".py",
   "mimetype": "text/x-python",
   "name": "python",
   "nbconvert_exporter": "python",
   "pygments_lexer": "ipython3"
  }
 },
 "nbformat": 4,
 "nbformat_minor": 5
}
