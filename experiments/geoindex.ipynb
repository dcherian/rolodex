{
 "cells": [
  {
   "cell_type": "code",
   "execution_count": null,
   "id": "0",
   "metadata": {},
   "outputs": [],
   "source": [
    "%load_ext watermark\n",
    "\n",
    "import xarray as xr\n",
    "import xproj\n",
    "from geoindex import with_geoindex\n",
    "from raster_index import RasterIndex\n",
    "\n",
    "%watermark -iv\n",
    "import numpy as np\n",
    "\n",
    "ds = xr.open_dataset(\n",
    "    # \"/Users/deepak/repos/rioxarray/test/test_data/input/PLANET_SCOPE_3D.nc\",\n",
    "    \"./S_20240101_concentration_v3.0.tif\",\n",
    "    # decode_coords=\"all\",\n",
    "    engine=\"rasterio\",\n",
    "    backend_kwargs={\"parse_coordinates\": False},\n",
    ")\n",
    "ds"
   ]
  },
  {
   "cell_type": "code",
   "execution_count": null,
   "id": "1",
   "metadata": {},
   "outputs": [],
   "source": [
    "varname = \"spatial_ref\"\n",
    "var = ds[\"spatial_ref\"]\n",
    "x_dim = \"x\"\n",
    "y_dim = \"y\"\n",
    "\n",
    "from affine import Affine\n",
    "\n",
    "if geotransform := var.attrs.get(\"GeoTransform\"):\n",
    "    # TODO: delete GeoTransform if successful?\n",
    "    geotransform = np.fromstring(geotransform, sep=\" \").tolist()\n",
    "fwd = Affine.from_gdal(*geotransform[:6])\n",
    "centers = fwd * fwd.translation(0.5, 0.5)\n",
    "index = RasterIndex.from_transform(\n",
    "    affine=centers,\n",
    "    width=ds.sizes.get(x_dim),\n",
    "    height=ds.sizes.get(y_dim),\n",
    "    x_dim=x_dim,\n",
    "    y_dim=y_dim,\n",
    ")\n",
    "\n",
    "newds = ds.set_xindex([\"spatial_ref\"], xproj.CRSIndex).assign_coords(\n",
    "    xr.Coordinates.from_xindex(index)\n",
    ")\n",
    "newds"
   ]
  },
  {
   "cell_type": "code",
   "execution_count": null,
   "id": "2",
   "metadata": {},
   "outputs": [],
   "source": [
    "xr.concat(\n",
    "    [\n",
    "        newds.isel(x=slice(10, 20)),\n",
    "        newds.isel(x=slice(20, 30)),\n",
    "    ],\n",
    "    dim=[\"x\", \"y\"],  # FIXME: support dim=\"x\"?\n",
    ")"
   ]
  },
  {
   "cell_type": "code",
   "execution_count": null,
   "id": "3",
   "metadata": {},
   "outputs": [],
   "source": [
    "newds.xindexes[\"x\"]._wrapped_indexes"
   ]
  },
  {
   "cell_type": "code",
   "execution_count": null,
   "id": "4",
   "metadata": {},
   "outputs": [],
   "source": [
    "newds = with_geoindex(ds)\n",
    "newds"
   ]
  },
  {
   "cell_type": "code",
   "execution_count": null,
   "id": "5",
   "metadata": {},
   "outputs": [],
   "source": [
    "newds.isel(x=slice(None, None, 2), y=slice(None, None, 2))"
   ]
  },
  {
   "cell_type": "code",
   "execution_count": null,
   "id": "6",
   "metadata": {},
   "outputs": [],
   "source": [
    "newds.isel(x=slice(10, 20))"
   ]
  },
  {
   "cell_type": "code",
   "execution_count": null,
   "id": "7",
   "metadata": {},
   "outputs": [],
   "source": [
    "newds.sel(x=[120, 121], y=[-88.5, -88], options=dict(crs=\"EPSG:4326\"))"
   ]
  },
  {
   "cell_type": "code",
   "execution_count": null,
   "id": "8",
   "metadata": {},
   "outputs": [],
   "source": [
    "# Before I added isel\n",
    "newds.sel(xc=[120, 121], yc=[-88.5, -88], options=dict(crs=\"EPSG:4326\"))"
   ]
  },
  {
   "cell_type": "code",
   "execution_count": null,
   "id": "9",
   "metadata": {},
   "outputs": [],
   "source": []
  }
 ],
 "metadata": {
  "language_info": {
   "codemirror_mode": {
    "name": "ipython",
    "version": 3
   },
   "file_extension": ".py",
   "mimetype": "text/x-python",
   "name": "python",
   "nbconvert_exporter": "python",
   "pygments_lexer": "ipython3"
  }
 },
 "nbformat": 4,
 "nbformat_minor": 5
}
