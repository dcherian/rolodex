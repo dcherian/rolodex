{
 "cells": [
  {
   "attachments": {},
   "cell_type": "markdown",
   "id": "0",
   "metadata": {},
   "source": [
    "# Forecast Model Run Collections (FMRC)\n",
    "\n",
    "There are many ways one might index weather forecast output. These different ways of constructing views of a forecast data are called \"Forecast Model Run Collections\" (FMRC).\n",
    "- \"Model Run\" : a single model run.\n",
    "- \"Constant Offset\" : all values for a given lead time.\n",
    "- \"Constant Forecast\" : all forecasts for a given time in the future.\n",
    "- \"Best Estimate\" : A best guess stitching together the analysis or initialization fields for past forecasts with the latest forecast.\n",
    "\n",
    "For reference, see [this classic image](https://www.unidata.ucar.edu/presentations/caron/FmrcPoster.pdf):\n",
    "![FMRC indexing schematic](./fmrc.png)\n",
    "\n",
    "\n",
    "Assume that a data cube has been constructed with `forecast_reference_time` (commonly `time`) and `forecast_period` (commonly `step` or `lead`) as dimensions.\n",
    "\n",
    "Then the more complex indexing patterns --- \"Constant Forecast\" or \"Best Estimate\" --- are achievable with numpy-style vectorized indexing.\n",
    "This notebook demonstrates all 4 \"FMRC\" indexing patterns with a custom Xarray index.\n",
    "\n",
    "\n",
    "\n",
    "```{note}\n",
    "Some complexity arises from models like HRRR where not all runs are the same length (unlike GFS).\n",
    "This complexity is handled by hardcoding in what data is available for each model: for example, with HRRR we know there are 49 `step`s available every 6 hours, and 19 `steps` otherwise.\n",
    "I don't know of any standard to encode this information on disk. Please reach out if you do know.\n",
    "```"
   ]
  },
  {
   "cell_type": "markdown",
   "id": "1",
   "metadata": {
    "editable": true,
    "slideshow": {
     "slide_type": ""
    },
    "tags": []
   },
   "source": [
    "## Create an example data cube\n",
    "\n",
    "Here is a synthetic year-long dataset that mimics the HRRR forecasts.\n",
    "\n",
    "Usually individual files describe a single `step` for a single forecast initialized at `time`. `ds` below models a datacube where such files have been concatenated along the `step` and `time` dimensions."
   ]
  },
  {
   "cell_type": "code",
   "execution_count": null,
   "id": "2",
   "metadata": {
    "editable": true,
    "slideshow": {
     "slide_type": ""
    },
    "tags": []
   },
   "outputs": [],
   "source": [
    "from rolodex.forecast import (\n",
    "    BestEstimate,\n",
    "    ConstantForecast,\n",
    "    ConstantOffset,\n",
    "    ForecastIndex,\n",
    "    Model,\n",
    "    ModelRun,\n",
    ")"
   ]
  },
  {
   "cell_type": "code",
   "execution_count": null,
   "id": "3",
   "metadata": {
    "editable": true,
    "slideshow": {
     "slide_type": ""
    },
    "tags": [
     "hide-input"
    ]
   },
   "outputs": [],
   "source": [
    "import numpy as np\n",
    "import pandas as pd\n",
    "import xarray as xr\n",
    "\n",
    "xr.set_options(keep_attrs=True, display_expand_indexes=True)\n",
    "\n",
    "ds = xr.Dataset(attrs={\"description\": \"Example HRRR-like dataset\"})\n",
    "shape = {\"x\": 40, \"time\": 365 * 24, \"step\": 49}\n",
    "ds[\"foo\"] = ((\"x\", \"time\", \"step\"), np.ones(tuple(shape.values())))\n",
    "ds[\"time\"] = (\n",
    "    \"time\",\n",
    "    pd.date_range(\"2023-01-01\", freq=\"h\", periods=shape[\"time\"]),\n",
    "    {\"standard_name\": \"forecast_reference_time\"},\n",
    ")\n",
    "ds[\"step\"] = (\n",
    "    \"step\",\n",
    "    pd.to_timedelta(np.arange(0, 49), unit=\"hours\"),\n",
    "    {\"standard_name\": \"forecast_period\"},\n",
    ")\n",
    "\n",
    "ds[\"foo\"] = xr.where(\n",
    "    # With this ordering, attrs gets preserved\n",
    "    ~((ds.time.dt.hour % 6 != 0) & (ds.step.dt.total_seconds() / 3600 > 18)),\n",
    "    ds.foo,\n",
    "    np.nan,\n",
    ")\n",
    "ds"
   ]
  },
  {
   "cell_type": "code",
   "execution_count": null,
   "id": "4",
   "metadata": {
    "editable": true,
    "slideshow": {
     "slide_type": ""
    },
    "tags": []
   },
   "outputs": [],
   "source": [
    "(\n",
    "    ds.foo.isel(x=20)\n",
    "    .sel(time=slice(\"2023-May-01\", \"2023-May-03\"))\n",
    "    .drop_vars(\"step\")\n",
    "    .plot(x=\"time\")\n",
    ")"
   ]
  },
  {
   "cell_type": "markdown",
   "id": "5",
   "metadata": {
    "editable": true,
    "slideshow": {
     "slide_type": ""
    },
    "tags": []
   },
   "source": [
    "## Create a ForecastIndex\n",
    "\n",
    "We _choose_ to model forecast datasets by adding a dummy \"forecast\" variable. This allows indexing syntax like `.sel(forecast=ConstantOffset(...))`.\n",
    "\n",
    "An alternative design would be to skip adding the dummy variable and using an accessor to enable indexing with `ds.fcst.constant_offset(...)`. The underlying concepts and logic remains the same."
   ]
  },
  {
   "cell_type": "code",
   "execution_count": null,
   "id": "6",
   "metadata": {
    "editable": true,
    "slideshow": {
     "slide_type": ""
    },
    "tags": []
   },
   "outputs": [],
   "source": [
    "ds.coords[\"forecast\"] = 0\n",
    "ds.coords[\"forecast\"].attrs[\"forecast_model\"] = \"hrrr\"\n",
    "\n",
    "# set the new index\n",
    "newds = ds.drop_indexes([\"time\", \"step\"]).set_xindex(\n",
    "    [\"time\", \"step\", \"forecast\"], ForecastIndex, model=Model.HRRR\n",
    ")\n",
    "newds"
   ]
  },
  {
   "cell_type": "markdown",
   "id": "7",
   "metadata": {
    "editable": true,
    "slideshow": {
     "slide_type": ""
    },
    "tags": []
   },
   "source": [
    "## \"Standard\" selection\n",
    "\n",
    "The usual indexing patterns along `time` and `step` individually still work."
   ]
  },
  {
   "cell_type": "code",
   "execution_count": null,
   "id": "8",
   "metadata": {
    "editable": true,
    "slideshow": {
     "slide_type": ""
    },
    "tags": []
   },
   "outputs": [],
   "source": [
    "newds.sel(time=slice(\"2023-05-03\", None), step=slice(\"2h\", \"12h\"))"
   ]
  },
  {
   "cell_type": "markdown",
   "id": "9",
   "metadata": {
    "editable": true,
    "slideshow": {
     "slide_type": ""
    },
    "tags": []
   },
   "source": [
    "## FMRC indexing\n",
    "\n",
    "For all cases, ForecastIndex knows how to select values so there is no missing data i.e. it only returns time stamps for which there exists a forecast.\n",
    "\n",
    "We've told the index that this model is HRRR --- the HRRR output characteristics are hard-coded in the index code. This could be refactored a little.\n",
    "\n",
    "Other models, like GFS, don't require any configuration.\n",
    "\n",
    "```{note}\n",
    "In the examples below, we will `assert not subset.foo.isnull().any().item()` to make sure only valid timesteps are returned after indexing\n",
    "```"
   ]
  },
  {
   "cell_type": "markdown",
   "id": "10",
   "metadata": {
    "editable": true,
    "slideshow": {
     "slide_type": ""
    },
    "tags": []
   },
   "source": [
    "### `BestEstimate`"
   ]
  },
  {
   "cell_type": "code",
   "execution_count": null,
   "id": "11",
   "metadata": {
    "editable": true,
    "slideshow": {
     "slide_type": ""
    },
    "tags": []
   },
   "outputs": [],
   "source": [
    "subset = newds.sel(forecast=BestEstimate())\n",
    "assert not subset.foo.isnull().any().item()\n",
    "subset"
   ]
  },
  {
   "cell_type": "markdown",
   "id": "12",
   "metadata": {
    "editable": true,
    "slideshow": {
     "slide_type": ""
    },
    "tags": []
   },
   "source": [
    "### `ConstantForecast`\n",
    "\n",
    "**TODO:** Adding a scalar `valid_time` for `ConstantForecast` triggers a bug."
   ]
  },
  {
   "cell_type": "code",
   "execution_count": null,
   "id": "13",
   "metadata": {
    "editable": true,
    "slideshow": {
     "slide_type": ""
    },
    "tags": []
   },
   "outputs": [],
   "source": [
    "subset = newds.sel(forecast=ConstantForecast(\"2023-12-29\"))\n",
    "assert not subset.foo.isnull().any().item()\n",
    "subset"
   ]
  },
  {
   "cell_type": "markdown",
   "id": "14",
   "metadata": {
    "editable": true,
    "slideshow": {
     "slide_type": ""
    },
    "tags": []
   },
   "source": [
    "### `ConstantOffset`"
   ]
  },
  {
   "cell_type": "code",
   "execution_count": null,
   "id": "15",
   "metadata": {
    "editable": true,
    "slideshow": {
     "slide_type": ""
    },
    "tags": []
   },
   "outputs": [],
   "source": [
    "subset = newds.sel(forecast=ConstantOffset(\"32h\"))\n",
    "assert not subset.foo.isnull().any().item()\n",
    "subset"
   ]
  },
  {
   "cell_type": "markdown",
   "id": "16",
   "metadata": {
    "editable": true,
    "slideshow": {
     "slide_type": ""
    },
    "tags": []
   },
   "source": [
    "### `ModelRun`\n",
    "\n",
    "For HRRR, the 03Z forecast only has 19 timesteps"
   ]
  },
  {
   "cell_type": "code",
   "execution_count": null,
   "id": "17",
   "metadata": {
    "editable": true,
    "slideshow": {
     "slide_type": ""
    },
    "tags": []
   },
   "outputs": [],
   "source": [
    "subset = newds.sel(forecast=ModelRun(\"2023-06-30 03:00\"))\n",
    "assert subset.sizes[\"step\"] == 19\n",
    "assert not subset.foo.isnull().any().item()\n",
    "subset"
   ]
  },
  {
   "cell_type": "markdown",
   "id": "18",
   "metadata": {
    "editable": true,
    "slideshow": {
     "slide_type": ""
    },
    "tags": []
   },
   "source": [
    "while the 06Z forecast has 49 timesteps"
   ]
  },
  {
   "cell_type": "code",
   "execution_count": null,
   "id": "19",
   "metadata": {
    "editable": true,
    "slideshow": {
     "slide_type": ""
    },
    "tags": []
   },
   "outputs": [],
   "source": [
    "subset = newds.sel(forecast=ModelRun(\"2023-06-30 06:00\"))  # 49\n",
    "assert subset.sizes[\"step\"] == 49\n",
    "assert not subset.foo.isnull().any().item()\n",
    "subset"
   ]
  }
 ],
 "metadata": {
  "language_info": {
   "codemirror_mode": {
    "name": "ipython",
    "version": 3
   },
   "file_extension": ".py",
   "mimetype": "text/x-python",
   "name": "python",
   "nbconvert_exporter": "python",
   "pygments_lexer": "ipython3"
  }
 },
 "nbformat": 4,
 "nbformat_minor": 5
}
